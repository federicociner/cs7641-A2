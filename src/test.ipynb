{
 "cells": [
  {
   "cell_type": "code",
   "execution_count": 19,
   "metadata": {},
   "outputs": [
    {
     "name": "stdout",
     "output_type": "stream",
     "text": [
      "N,RHC,SA,GA,MIMIC\n",
      "FF10,8.0,9.0,9.0,9.0\n",
      "N,RHC,SA,GA,MIMIC\n",
      "FF25,22.0,24.0,24.0,23.0\n",
      "N,RHC,SA,GA,MIMIC\n",
      "FF50,40.0,44.0,47.0,45.0\n",
      "N,RHC,SA,GA,MIMIC\n",
      "FF100,84.0,88.0,84.0,93.0\n",
      "N,RHC,SA,GA,MIMIC\n",
      "FF500,407.0,413.0,316.0,401.0\n",
      "N,RHC,SA,GA,MIMIC\n",
      "FF1000,799.9,799.9,552.4,794.1\n"
     ]
    }
   ],
   "source": [
    "from helpers import get_abspath, save_dataset\n",
    "import pandas as pd\n",
    "import numpy as np\n",
    "import matplotlib\n",
    "matplotlib.use('agg')\n",
    "import seaborn as sns\n",
    "import matplotlib.pyplot as plt\n",
    "sns.set_context('notebook', rc={'lines.markeredgewidth': 1.0})\n",
    "sns.set_style(\"darkgrid\")\n",
    "\n",
    "resdir = 'results/OPT/Archive'\n",
    "subdirs = ['FF10', 'FF25', 'FF50', 'FF100', 'FF500', 'FF1000']\n",
    "for d in subdirs:\n",
    "    RHC = pd.read_csv(get_abspath('{}/RHC_results.csv'.format(d), resdir))\n",
    "    MIMIC = pd.read_csv(get_abspath('{}/MIMIC_100_50_0.3_results.csv'.format(d), resdir))\n",
    "    SA = pd.read_csv(get_abspath('{}/SA_0.25_results.csv'.format(d), resdir))\n",
    "    GA = pd.read_csv(get_abspath('{}/GA_50_10_10_results.csv'.format(d), resdir))\n",
    "    \n",
    "    r_max = RHC['fitness'].max()\n",
    "    s_max = SA['fitness'].max()\n",
    "    g_max = GA['fitness'].max()\n",
    "    m_max = MIMIC['fitness'].max()\n",
    "    print 'N,RHC,SA,GA,MIMIC'\n",
    "    print '{},{},{},{},{}'.format(d, r_max, s_max, g_max, m_max)\n",
    "    \n"
   ]
  },
  {
   "cell_type": "code",
   "execution_count": null,
   "metadata": {},
   "outputs": [],
   "source": []
  }
 ],
 "metadata": {
  "kernelspec": {
   "display_name": "Python 2",
   "language": "python",
   "name": "python2"
  },
  "language_info": {
   "codemirror_mode": {
    "name": "ipython",
    "version": 2
   },
   "file_extension": ".py",
   "mimetype": "text/x-python",
   "name": "python",
   "nbconvert_exporter": "python",
   "pygments_lexer": "ipython2",
   "version": "2.7.12"
  }
 },
 "nbformat": 4,
 "nbformat_minor": 2
}
